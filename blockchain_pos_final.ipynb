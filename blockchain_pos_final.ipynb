{
  "nbformat": 4,
  "nbformat_minor": 0,
  "metadata": {
    "colab": {
      "provenance": []
    },
    "kernelspec": {
      "name": "python3",
      "display_name": "Python 3"
    },
    "language_info": {
      "name": "python"
    }
  },
  "cells": [
    {
      "cell_type": "code",
      "source": [
        "import random\n",
        "\n",
        "class Node:\n",
        "    def __init__(self, id, stake):\n",
        "        self.id = id\n",
        "        self.stake = stake\n",
        "        self.blocks_mined = 0\n",
        "\n",
        "    def show_stake(self, blockchain, protocol):\n",
        "        if protocol == 'conventional':\n",
        "            return self.stake\n",
        "        elif protocol == 'e-PoS':\n",
        "            # return compute_baseline_stake(self.stake)\n",
        "            pass\n",
        "        else:\n",
        "            raise ValueError(\"Unknown protocol\")\n",
        "\n",
        "nodes = [Node(id=i, stake=random.randint(50, 300)) for i in range(10)]\n",
        "\n",
        "for i in range(len(nodes)):\n",
        "    print(f'id = {nodes[i].id} stake : {nodes[i].stake}')\n",
        "\n",
        "class Blockchain:\n",
        "    def __init__(self, protocol):\n",
        "        self.chain = []\n",
        "        self.protocol = protocol  # 'e-PoS' or 'conventional'\n",
        "\n",
        "    def add_block(self, block):\n",
        "        self.chain.append(block)\n",
        "\n",
        "    def mine_next_block(self, nodes, participating_nodes):\n",
        "        # Select a node to mine the block based on the protocol\n",
        "        valid_nodes = [node for node in nodes if node.id in participating_nodes]\n",
        "        if not valid_nodes:\n",
        "            print(\"No participating nodes. Skipping this round.\")\n",
        "            return\n",
        "\n",
        "        mining_powers = [node.show_stake(self, self.protocol) for node in valid_nodes]\n",
        "        winning_node = valid_nodes[mining_powers.index(max(mining_powers))]\n",
        "        winning_node.blocks_mined += 1\n",
        "        self.add_block({'miner': winning_node.id, 'protocol': self.protocol})\n",
        "\n",
        "def run_simulation(nodes, rounds, protocol):\n",
        "    blockchain = Blockchain(protocol)\n",
        "    for _ in range(rounds):\n",
        "        participating_nodes_str = input(f\"Enter the IDs of participating nodes for round {_ + 1} (comma-separated): \")\n",
        "        participating_nodes = [int(id) for id in participating_nodes_str.split(',')]\n",
        "\n",
        "        blockchain.mine_next_block(nodes, participating_nodes)\n",
        "\n",
        "    # print results\n",
        "\n",
        "\n",
        "\n",
        "\n",
        "\n",
        "\n",
        "\n",
        "\n",
        "\n",
        "\n",
        "\n",
        "\n",
        "\n",
        "\n",
        "\n",
        "\n",
        "    for node in nodes:\n",
        "        print(f\"Node {node.id}: Blocks Mined = {node.blocks_mined}\")\n",
        "\n",
        "print(\"Conventional PoS Simulation:\\n\")\n",
        "run_simulation(nodes, 3, 'conventional')\n"
      ],
      "metadata": {
        "colab": {
          "base_uri": "https://localhost:8080/"
        },
        "id": "6IhGGPVRpGWy",
        "outputId": "9eb6c7b3-9dae-46c8-9046-5026c9f1990d"
      },
      "execution_count": null,
      "outputs": [
        {
          "output_type": "stream",
          "name": "stdout",
          "text": [
            "id = 0 stake : 94\n",
            "id = 1 stake : 260\n",
            "id = 2 stake : 63\n",
            "id = 3 stake : 188\n",
            "id = 4 stake : 162\n",
            "id = 5 stake : 239\n",
            "id = 6 stake : 115\n",
            "id = 7 stake : 138\n",
            "id = 8 stake : 152\n",
            "id = 9 stake : 165\n",
            "Conventional PoS Simulation:\n",
            "\n",
            "Enter the IDs of participating nodes for round 1 (comma-separated): 1,2,3,4,5\n",
            "Enter the IDs of participating nodes for round 2 (comma-separated): 0,2,3,4,5,6\n",
            "Enter the IDs of participating nodes for round 3 (comma-separated): 0,8,9\n",
            "Node 0: Blocks Mined = 0\n",
            "Node 1: Blocks Mined = 1\n",
            "Node 2: Blocks Mined = 0\n",
            "Node 3: Blocks Mined = 0\n",
            "Node 4: Blocks Mined = 0\n",
            "Node 5: Blocks Mined = 1\n",
            "Node 6: Blocks Mined = 0\n",
            "Node 7: Blocks Mined = 0\n",
            "Node 8: Blocks Mined = 0\n",
            "Node 9: Blocks Mined = 1\n"
          ]
        }
      ]
    }
  ]
}