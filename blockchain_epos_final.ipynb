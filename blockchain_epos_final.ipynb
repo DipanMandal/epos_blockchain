{
  "nbformat": 4,
  "nbformat_minor": 0,
  "metadata": {
    "colab": {
      "provenance": []
    },
    "kernelspec": {
      "name": "python3",
      "display_name": "Python 3"
    },
    "language_info": {
      "name": "python"
    }
  },
  "cells": [
    {
      "cell_type": "markdown",
      "source": [
        "#epos code starts here"
      ],
      "metadata": {
        "id": "XmqC8zttjjL6"
      }
    },
    {
      "cell_type": "code",
      "source": [
        "import random\n",
        "\n",
        "class Node:\n",
        "    def __init__(self, id, stake, pblocks, commitment, blocks_mined):\n",
        "        self.id = id\n",
        "        self.stake = stake\n",
        "        #self.blocks_mined = 0\n",
        "        self.pblocks = []\n",
        "        self.commitment = commitment\n",
        "        self.blocks_mined = []\n",
        "\n",
        "    def show_stake(self, blockchain, protocol):\n",
        "        pass\n",
        "\n",
        "nodes = [Node(id=i, stake=random.randint(50, 300), pblocks = [], commitment = random.randint(1,100), blocks_mined = []) for i in range(10)]\n",
        "\n",
        "#printing the node info:\n",
        "\n",
        "for i in range (len(nodes)):\n",
        "  print(f'node {nodes[i].id} : stake : {nodes[i].stake} commitment : {nodes[i].commitment}')"
      ],
      "metadata": {
        "id": "YmKKhpfqd6x9",
        "colab": {
          "base_uri": "https://localhost:8080/"
        },
        "outputId": "2e8fbed2-af35-4008-af10-bdde69c27126"
      },
      "execution_count": null,
      "outputs": [
        {
          "output_type": "stream",
          "name": "stdout",
          "text": [
            "node 0 : stake : 164 commitment : 99\n",
            "node 1 : stake : 116 commitment : 50\n",
            "node 2 : stake : 290 commitment : 82\n",
            "node 3 : stake : 256 commitment : 66\n",
            "node 4 : stake : 142 commitment : 58\n",
            "node 5 : stake : 233 commitment : 36\n",
            "node 6 : stake : 259 commitment : 63\n",
            "node 7 : stake : 279 commitment : 35\n",
            "node 8 : stake : 169 commitment : 28\n",
            "node 9 : stake : 53 commitment : 44\n"
          ]
        }
      ]
    },
    {
      "cell_type": "code",
      "source": [
        "class Transaction:\n",
        "    def __init__(self, id, fee, size = 2):\n",
        "        self.id = id\n",
        "        self.fee = fee\n",
        "        self.size = size\n",
        "\n",
        "class Block:\n",
        "  def __init__(self, block_id, tx_list, baseline_stake , percentage_commitment):\n",
        "    self.block_id = block_id\n",
        "    self.tx_list = []\n",
        "    self.baseline_stake = 0\n",
        "    self.percentage_commitment = []"
      ],
      "metadata": {
        "id": "QRWdRS8-0kbr"
      },
      "execution_count": null,
      "outputs": []
    },
    {
      "cell_type": "code",
      "source": [
        "transactions = [Transaction(id=i, fee=random.randint(10, 50)) for i in range(100)]\n",
        "\n",
        "block_size = 10\n",
        "num_blocks = 20\n",
        "blocks = [Block(block_id = i, tx_list = [], baseline_stake = 0, percentage_commitment = []) for i in range(num_blocks)]"
      ],
      "metadata": {
        "id": "luRAEQat0XXg"
      },
      "execution_count": null,
      "outputs": []
    },
    {
      "cell_type": "code",
      "source": [
        "def compute_baseline_stake(transactions, num_blocks, block_size, blocks):\n",
        "  sorted_transactions = sorted(transactions, key=lambda x: (-x.fee))\n",
        "  for r in range (len(sorted_transactions)):\n",
        "    print(f'id : {sorted_transactions[r].id} fees : {sorted_transactions[r].fee}')\n",
        "  size = 0\n",
        "  fee = 0\n",
        "  i = 0\n",
        "\n",
        "  for tx in range (len(sorted_transactions)):\n",
        "    blocks[i].tx_list.append(sorted_transactions[tx].id)\n",
        "    size += sorted_transactions[tx].size\n",
        "    fee += sorted_transactions[tx].fee\n",
        "\n",
        "    if size < block_size:\n",
        "      continue\n",
        "    if size >= block_size:\n",
        "      blocks[i].baseline_stake = fee\n",
        "      fee = 0\n",
        "      size = 0\n",
        "      i+=1\n",
        "\n",
        "  return blocks"
      ],
      "metadata": {
        "id": "QZabMpx0vqhc"
      },
      "execution_count": null,
      "outputs": []
    },
    {
      "cell_type": "code",
      "source": [
        "computed_blocks = compute_baseline_stake(transactions, num_blocks, block_size, blocks)\n",
        "\n",
        "for i in range(len(computed_blocks)):\n",
        "  print(f'id = {blocks[i].block_id} tx_list = {blocks[i].tx_list} baseline_stake = {blocks[i].baseline_stake}')"
      ],
      "metadata": {
        "colab": {
          "base_uri": "https://localhost:8080/"
        },
        "id": "cMetMSKN9gPt",
        "outputId": "8d19b592-0a06-4289-e93e-36574aefe7d2"
      },
      "execution_count": null,
      "outputs": [
        {
          "output_type": "stream",
          "name": "stdout",
          "text": [
            "id : 3 fees : 50\n",
            "id : 42 fees : 50\n",
            "id : 94 fees : 50\n",
            "id : 4 fees : 49\n",
            "id : 47 fees : 49\n",
            "id : 88 fees : 49\n",
            "id : 5 fees : 48\n",
            "id : 14 fees : 48\n",
            "id : 50 fees : 47\n",
            "id : 59 fees : 47\n",
            "id : 74 fees : 47\n",
            "id : 85 fees : 47\n",
            "id : 17 fees : 46\n",
            "id : 40 fees : 46\n",
            "id : 76 fees : 46\n",
            "id : 6 fees : 45\n",
            "id : 48 fees : 45\n",
            "id : 26 fees : 44\n",
            "id : 90 fees : 44\n",
            "id : 98 fees : 44\n",
            "id : 0 fees : 43\n",
            "id : 62 fees : 42\n",
            "id : 37 fees : 41\n",
            "id : 78 fees : 41\n",
            "id : 51 fees : 40\n",
            "id : 57 fees : 40\n",
            "id : 64 fees : 40\n",
            "id : 16 fees : 39\n",
            "id : 21 fees : 39\n",
            "id : 86 fees : 39\n",
            "id : 9 fees : 38\n",
            "id : 53 fees : 38\n",
            "id : 7 fees : 37\n",
            "id : 8 fees : 37\n",
            "id : 18 fees : 37\n",
            "id : 32 fees : 37\n",
            "id : 56 fees : 37\n",
            "id : 31 fees : 36\n",
            "id : 36 fees : 36\n",
            "id : 60 fees : 36\n",
            "id : 68 fees : 36\n",
            "id : 95 fees : 36\n",
            "id : 91 fees : 35\n",
            "id : 89 fees : 32\n",
            "id : 12 fees : 31\n",
            "id : 61 fees : 31\n",
            "id : 1 fees : 30\n",
            "id : 75 fees : 30\n",
            "id : 80 fees : 30\n",
            "id : 11 fees : 29\n",
            "id : 25 fees : 29\n",
            "id : 45 fees : 29\n",
            "id : 66 fees : 29\n",
            "id : 15 fees : 28\n",
            "id : 28 fees : 28\n",
            "id : 24 fees : 27\n",
            "id : 43 fees : 27\n",
            "id : 52 fees : 27\n",
            "id : 77 fees : 27\n",
            "id : 83 fees : 27\n",
            "id : 87 fees : 27\n",
            "id : 70 fees : 25\n",
            "id : 10 fees : 24\n",
            "id : 27 fees : 24\n",
            "id : 99 fees : 24\n",
            "id : 38 fees : 23\n",
            "id : 55 fees : 22\n",
            "id : 23 fees : 21\n",
            "id : 44 fees : 21\n",
            "id : 92 fees : 21\n",
            "id : 93 fees : 20\n",
            "id : 19 fees : 19\n",
            "id : 63 fees : 19\n",
            "id : 79 fees : 19\n",
            "id : 84 fees : 18\n",
            "id : 30 fees : 17\n",
            "id : 46 fees : 17\n",
            "id : 69 fees : 17\n",
            "id : 81 fees : 17\n",
            "id : 96 fees : 16\n",
            "id : 13 fees : 15\n",
            "id : 35 fees : 15\n",
            "id : 29 fees : 14\n",
            "id : 54 fees : 14\n",
            "id : 71 fees : 14\n",
            "id : 72 fees : 14\n",
            "id : 82 fees : 14\n",
            "id : 58 fees : 13\n",
            "id : 20 fees : 12\n",
            "id : 41 fees : 12\n",
            "id : 65 fees : 12\n",
            "id : 67 fees : 12\n",
            "id : 2 fees : 11\n",
            "id : 34 fees : 11\n",
            "id : 73 fees : 11\n",
            "id : 97 fees : 11\n",
            "id : 22 fees : 10\n",
            "id : 33 fees : 10\n",
            "id : 39 fees : 10\n",
            "id : 49 fees : 10\n",
            "id = 0 tx_list = [3, 42, 94, 4, 47] baseline_stake = 248\n",
            "id = 1 tx_list = [88, 5, 14, 50, 59] baseline_stake = 239\n",
            "id = 2 tx_list = [74, 85, 17, 40, 76] baseline_stake = 232\n",
            "id = 3 tx_list = [6, 48, 26, 90, 98] baseline_stake = 222\n",
            "id = 4 tx_list = [0, 62, 37, 78, 51] baseline_stake = 207\n",
            "id = 5 tx_list = [57, 64, 16, 21, 86] baseline_stake = 197\n",
            "id = 6 tx_list = [9, 53, 7, 8, 18] baseline_stake = 187\n",
            "id = 7 tx_list = [32, 56, 31, 36, 60] baseline_stake = 182\n",
            "id = 8 tx_list = [68, 95, 91, 89, 12] baseline_stake = 170\n",
            "id = 9 tx_list = [61, 1, 75, 80, 11] baseline_stake = 150\n",
            "id = 10 tx_list = [25, 45, 66, 15, 28] baseline_stake = 143\n",
            "id = 11 tx_list = [24, 43, 52, 77, 83] baseline_stake = 135\n",
            "id = 12 tx_list = [87, 70, 10, 27, 99] baseline_stake = 124\n",
            "id = 13 tx_list = [38, 55, 23, 44, 92] baseline_stake = 108\n",
            "id = 14 tx_list = [93, 19, 63, 79, 84] baseline_stake = 95\n",
            "id = 15 tx_list = [30, 46, 69, 81, 96] baseline_stake = 84\n",
            "id = 16 tx_list = [13, 35, 29, 54, 71] baseline_stake = 72\n",
            "id = 17 tx_list = [72, 82, 58, 20, 41] baseline_stake = 65\n",
            "id = 18 tx_list = [65, 67, 2, 34, 73] baseline_stake = 57\n",
            "id = 19 tx_list = [97, 22, 33, 39, 49] baseline_stake = 51\n"
          ]
        }
      ]
    },
    {
      "cell_type": "code",
      "source": [
        "def select_candidate_miners(computed_blocks, nodes):\n",
        "  for i in range (len(nodes)):\n",
        "    for j in range (len(computed_blocks)):\n",
        "      if nodes[i].stake > computed_blocks[j].baseline_stake:\n",
        "        nodes[i].pblocks.append(computed_blocks[j].block_id)\n",
        "\n",
        "  for i in range (len(nodes)):\n",
        "    if len(nodes[i].pblocks) >= 1:\n",
        "      selected_block = random.choice(nodes[i].pblocks)\n",
        "      print(f'node {i} bid for block {selected_block}')\n",
        "      r_balance = nodes[i].stake - blocks[selected_block].baseline_stake\n",
        "      committed_stake = nodes[i].commitment * r_balance / 100\n",
        "      blocks[selected_block].percentage_commitment.append((nodes[i].id, committed_stake))\n",
        "\n",
        "    print(f'node {nodes[i].id} : stake : {nodes[i].stake} pblocks list : {nodes[i].pblocks} commitment : {nodes[i].commitment}')"
      ],
      "metadata": {
        "id": "wJzlo9S7amJa"
      },
      "execution_count": null,
      "outputs": []
    },
    {
      "cell_type": "code",
      "source": [
        "select_candidate_miners(computed_blocks, nodes)\n",
        "print('\\n')\n",
        "for i in range(len(computed_blocks)):\n",
        "  print(f'id = {blocks[i].block_id} percentage commitment : {blocks[i].percentage_commitment}')"
      ],
      "metadata": {
        "colab": {
          "base_uri": "https://localhost:8080/"
        },
        "id": "2D2-vGxugTSb",
        "outputId": "f211281b-5a03-46a4-f338-6344b5554a2f"
      },
      "execution_count": null,
      "outputs": [
        {
          "output_type": "stream",
          "name": "stdout",
          "text": [
            "node 0 bid for block 14\n",
            "node 0 : stake : 164 pblocks list : [9, 10, 11, 12, 13, 14, 15, 16, 17, 18, 19] commitment : 99\n",
            "node 1 bid for block 16\n",
            "node 1 : stake : 116 pblocks list : [13, 14, 15, 16, 17, 18, 19] commitment : 50\n",
            "node 2 bid for block 19\n",
            "node 2 : stake : 290 pblocks list : [0, 1, 2, 3, 4, 5, 6, 7, 8, 9, 10, 11, 12, 13, 14, 15, 16, 17, 18, 19] commitment : 82\n",
            "node 3 bid for block 13\n",
            "node 3 : stake : 256 pblocks list : [0, 1, 2, 3, 4, 5, 6, 7, 8, 9, 10, 11, 12, 13, 14, 15, 16, 17, 18, 19] commitment : 66\n",
            "node 4 bid for block 12\n",
            "node 4 : stake : 142 pblocks list : [11, 12, 13, 14, 15, 16, 17, 18, 19] commitment : 58\n",
            "node 5 bid for block 3\n",
            "node 5 : stake : 233 pblocks list : [2, 3, 4, 5, 6, 7, 8, 9, 10, 11, 12, 13, 14, 15, 16, 17, 18, 19] commitment : 36\n",
            "node 6 bid for block 9\n",
            "node 6 : stake : 259 pblocks list : [0, 1, 2, 3, 4, 5, 6, 7, 8, 9, 10, 11, 12, 13, 14, 15, 16, 17, 18, 19] commitment : 63\n",
            "node 7 bid for block 8\n",
            "node 7 : stake : 279 pblocks list : [0, 1, 2, 3, 4, 5, 6, 7, 8, 9, 10, 11, 12, 13, 14, 15, 16, 17, 18, 19] commitment : 35\n",
            "node 8 bid for block 19\n",
            "node 8 : stake : 169 pblocks list : [9, 10, 11, 12, 13, 14, 15, 16, 17, 18, 19] commitment : 28\n",
            "node 9 bid for block 19\n",
            "node 9 : stake : 53 pblocks list : [19] commitment : 44\n",
            "\n",
            "\n",
            "id = 0 tx_list = [3, 42, 94, 4, 47] baseline_stake = 248 percentage commitment : []\n",
            "id = 1 tx_list = [88, 5, 14, 50, 59] baseline_stake = 239 percentage commitment : []\n",
            "id = 2 tx_list = [74, 85, 17, 40, 76] baseline_stake = 232 percentage commitment : []\n",
            "id = 3 tx_list = [6, 48, 26, 90, 98] baseline_stake = 222 percentage commitment : [(5, 3.96)]\n",
            "id = 4 tx_list = [0, 62, 37, 78, 51] baseline_stake = 207 percentage commitment : []\n",
            "id = 5 tx_list = [57, 64, 16, 21, 86] baseline_stake = 197 percentage commitment : []\n",
            "id = 6 tx_list = [9, 53, 7, 8, 18] baseline_stake = 187 percentage commitment : []\n",
            "id = 7 tx_list = [32, 56, 31, 36, 60] baseline_stake = 182 percentage commitment : []\n",
            "id = 8 tx_list = [68, 95, 91, 89, 12] baseline_stake = 170 percentage commitment : [(7, 38.15)]\n",
            "id = 9 tx_list = [61, 1, 75, 80, 11] baseline_stake = 150 percentage commitment : [(6, 68.67)]\n",
            "id = 10 tx_list = [25, 45, 66, 15, 28] baseline_stake = 143 percentage commitment : []\n",
            "id = 11 tx_list = [24, 43, 52, 77, 83] baseline_stake = 135 percentage commitment : []\n",
            "id = 12 tx_list = [87, 70, 10, 27, 99] baseline_stake = 124 percentage commitment : [(4, 10.44)]\n",
            "id = 13 tx_list = [38, 55, 23, 44, 92] baseline_stake = 108 percentage commitment : [(3, 97.68)]\n",
            "id = 14 tx_list = [93, 19, 63, 79, 84] baseline_stake = 95 percentage commitment : [(0, 68.31)]\n",
            "id = 15 tx_list = [30, 46, 69, 81, 96] baseline_stake = 84 percentage commitment : []\n",
            "id = 16 tx_list = [13, 35, 29, 54, 71] baseline_stake = 72 percentage commitment : [(1, 22.0)]\n",
            "id = 17 tx_list = [72, 82, 58, 20, 41] baseline_stake = 65 percentage commitment : []\n",
            "id = 18 tx_list = [65, 67, 2, 34, 73] baseline_stake = 57 percentage commitment : []\n",
            "id = 19 tx_list = [97, 22, 33, 39, 49] baseline_stake = 51 percentage commitment : [(2, 195.98), (8, 33.04), (9, 0.88)]\n"
          ]
        }
      ]
    },
    {
      "cell_type": "code",
      "source": [
        "def cold_start(miner1, miner2):\n",
        "  if miner1.stake >= miner2.stake:\n",
        "    return miner1.id\n",
        "  else:\n",
        "    return miner2.id\n"
      ],
      "metadata": {
        "id": "WXcf5eRTrRBh"
      },
      "execution_count": null,
      "outputs": []
    },
    {
      "cell_type": "code",
      "source": [
        "def equal_bids(miner1, miner2):\n",
        "  if len(miner1.blocks_mined) == 0 and len(miner2.blocks_mined) == 0:\n",
        "    miner_id = cold_start(miner1, miner2)\n",
        "    return miner_id\n",
        "\n",
        "  elif len(miner1.blocks_mined) >= len(miner2.blocks_mined):\n",
        "    return miner1.id\n",
        "  else:\n",
        "    return miner2.id"
      ],
      "metadata": {
        "id": "3ZMQbB0xv1gT"
      },
      "execution_count": null,
      "outputs": []
    },
    {
      "cell_type": "code",
      "source": [
        "def final_selection_of_miners(computed_blocks, nodes):\n",
        "    for block in computed_blocks:\n",
        "        # Skip blocks without percentage_commitment\n",
        "        if not block.percentage_commitment:\n",
        "            continue\n",
        "\n",
        "        sorted_commitments = sorted(block.percentage_commitment, key=lambda x: -x[1])\n",
        "\n",
        "        # Determine the miner based on the highest commitment\n",
        "        if len(sorted_commitments) > 1 and sorted_commitments[0][1] == sorted_commitments[1][1]:\n",
        "            # Call equal_bids if the top two commitments are equal\n",
        "            winning_miner_id = equal_bids(sorted_commitments[0][0], sorted_commitments[1][0])\n",
        "        else:\n",
        "            # Otherwise, select the miner with the highest commitment\n",
        "            winning_miner_id = sorted_commitments[0][0]\n",
        "\n",
        "        # Increment blocks_mined for the winning miner\n",
        "        for node in nodes:\n",
        "          if node.id == winning_miner_id:\n",
        "            node.blocks_mined.append(block.block_id)\n",
        "            break\n"
      ],
      "metadata": {
        "id": "rV7CGZmCf-Rf"
      },
      "execution_count": null,
      "outputs": []
    },
    {
      "cell_type": "code",
      "source": [
        "final_selection_of_miners(blocks, nodes)"
      ],
      "metadata": {
        "id": "izYvMsG9AwpE"
      },
      "execution_count": null,
      "outputs": []
    },
    {
      "cell_type": "code",
      "source": [
        "def print_blocks_mined_by_each_node(nodes):\n",
        "    for node in nodes:\n",
        "        print(f\"Node ID: {node.id}, Blocks Mined: {node.blocks_mined}\")\n",
        "print_blocks_mined_by_each_node(nodes)"
      ],
      "metadata": {
        "colab": {
          "base_uri": "https://localhost:8080/"
        },
        "id": "7yEI_523hcS7",
        "outputId": "e04d68e1-7b25-4967-8d05-5f0a195cd2ab"
      },
      "execution_count": null,
      "outputs": [
        {
          "output_type": "stream",
          "name": "stdout",
          "text": [
            "Node ID: 0, Blocks Mined: [14]\n",
            "Node ID: 1, Blocks Mined: [16]\n",
            "Node ID: 2, Blocks Mined: [19]\n",
            "Node ID: 3, Blocks Mined: [13]\n",
            "Node ID: 4, Blocks Mined: [12]\n",
            "Node ID: 5, Blocks Mined: [3]\n",
            "Node ID: 6, Blocks Mined: [9]\n",
            "Node ID: 7, Blocks Mined: [8]\n",
            "Node ID: 8, Blocks Mined: []\n",
            "Node ID: 9, Blocks Mined: []\n"
          ]
        }
      ]
    }
  ]
}